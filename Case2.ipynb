{
 "cells": [
  {
   "cell_type": "markdown",
   "id": "ee98e3db-0f34-456e-a8a0-35b12832747b",
   "metadata": {},
   "source": [
    "# Simplified Direct Sampling aka Direct Sampling Best Candidate (DSBC)"
   ]
  },
  {
   "cell_type": "code",
   "execution_count": 1,
   "id": "94a51c8d-f616-4e63-98ef-3d3ef3129fe3",
   "metadata": {},
   "outputs": [],
   "source": [
    "import numpy as np\n",
    "import pandas as pd\n",
    "import matplotlib.pyplot as plt\n",
    "\n",
    "import ot\n",
    "\n",
    "from geone import img\n",
    "from geone import imgplot\n",
    "from geone import deesseinterface\n",
    "\n",
    "import copy"
   ]
  },
  {
   "cell_type": "code",
   "execution_count": 2,
   "id": "2d67f327-d94e-44d7-912d-851a6fbbc408",
   "metadata": {},
   "outputs": [],
   "source": [
    "%load_ext autoreload\n",
    "%autoreload 1\n",
    "%aimport ensemble, simulator, scoring, antarctic, mpstool"
   ]
  },
  {
   "cell_type": "markdown",
   "id": "6a984e66-46c8-4bd0-9613-5211dc134597",
   "metadata": {},
   "source": [
    "## Test 2. Continuous with pyramides."
   ]
  },
  {
   "cell_type": "code",
   "execution_count": 3,
   "id": "06bcbc48-d393-4dec-98e7-e114c83eded3",
   "metadata": {},
   "outputs": [],
   "source": [
    "bedmap = np.fromfile('bedmap2/bedmap2_bin/bedmap2_bed.flt', dtype='float32')\n",
    "bedmap = bedmap.reshape((6667, 6667))"
   ]
  },
  {
   "cell_type": "code",
   "execution_count": 4,
   "id": "845806e8-f7eb-4c64-a79a-bbd3979a9b0a",
   "metadata": {},
   "outputs": [],
   "source": [
    "uncertain = np.fromfile('bedmap2/bedmap2_bin/bedmap2_grounded_bed_uncertainty.flt', dtype='float32')\n",
    "uncertain = uncertain.reshape((6667, 6667))"
   ]
  },
  {
   "cell_type": "code",
   "execution_count": 5,
   "id": "dffa54fd-28b3-4c60-b6bc-d831d7ed1788",
   "metadata": {},
   "outputs": [],
   "source": [
    "bedmap[uncertain>500] = -9999\n",
    "bedmap[bedmap==-9999] = np.nan\n",
    "ti = img.Img(nx=bedmap.shape[1], ny=bedmap.shape[0], nz=1, nv=1, sx=1, sy=1, sz=1, ox=0, val=np.flipud(bedmap)[np.newaxis, np.newaxis])"
   ]
  },
  {
   "cell_type": "code",
   "execution_count": null,
   "id": "238e836d-f2e5-4bc9-82af-2675cb2415ef",
   "metadata": {},
   "outputs": [],
   "source": []
  },
  {
   "cell_type": "code",
   "execution_count": 6,
   "id": "11e804dc-734c-4a73-a926-44b1f4ed38ea",
   "metadata": {},
   "outputs": [],
   "source": [
    "#plt.figure(figsize=(15,15))\n",
    "#imgplot.drawImage2D(ti, cmap='magma')"
   ]
  },
  {
   "cell_type": "code",
   "execution_count": 7,
   "id": "7b3d46fe-825f-4a51-87c2-f02b0a92f84b",
   "metadata": {},
   "outputs": [],
   "source": [
    "simulator = antarctic.AntarcticDS('test/test', nneighboringNode=20, distanceThreshold=0.005, maxScanFraction=0.01,\n",
    "                                 ox=4000, oy=2000, nx=200, ny=200)"
   ]
  },
  {
   "cell_type": "code",
   "execution_count": 8,
   "id": "f5d83b12-973f-4449-87ad-93443c12ca25",
   "metadata": {},
   "outputs": [],
   "source": [
    "locations = [(1100, 4200),\n",
    "             (3700, 2000),\n",
    "             (1700, 3500),\n",
    "             (3500, 5200),\n",
    "             (4900, 3900),\n",
    "             (4200, 3500),\n",
    "             (2500, 2700),\n",
    "             (5000, 2700),\n",
    "             (4700, 1000),\n",
    "             (4700, 2000),\n",
    "             ]"
   ]
  },
  {
   "cell_type": "code",
   "execution_count": 9,
   "id": "8f9c3aeb-b33a-4a42-81e2-fdebc8bd95ff",
   "metadata": {},
   "outputs": [],
   "source": [
    "#ti_dr = copy.deepcopy(ti)\n",
    "#for x, y in locations:\n",
    "#    print(x, y)\n",
    "#    simulator = antarctic.AntarcticDS(f'test/test-{x}-{y}',\n",
    "#                                      nneighboringNode=20,\n",
    "#                                      distanceThreshold=0.005,\n",
    "#                                      maxScanFraction=0.01,\n",
    "#                                      ox=x, oy=y,\n",
    "#                                      nx=200, ny=200)\n",
    "#    ti_dr = simulator.cut_ti(ti_dr)\n",
    "#plt.figure(figsize=(15,15))\n",
    "#imgplot.drawImage2D(ti_dr, cmap='magma')\n",
    "    #plt.figure()\n",
    "    #imgplot.drawImage2D(simulator.sim_grid(ti), cmap='magma')\n",
    "    #plt.figure()\n",
    "    #imgplot.drawImage2D(simulator.im_ref(ti), cmap='magma')"
   ]
  },
  {
   "cell_type": "code",
   "execution_count": 10,
   "id": "4857a78c-4116-4033-93d7-d4adef5c593b",
   "metadata": {},
   "outputs": [],
   "source": [
    "def ds_simulation_parameters(ox, oy):\n",
    "    parameter_sets = [ [n, i] for n in [8, 16, 32, 64] for i in [0.001, 0.002, 0.005, 0.01]]\n",
    "\n",
    "    df = pd.DataFrame(parameter_sets, columns = ['nneighboringNode', 'distanceThreshold'])\n",
    "    df['maxScanFraction'] = 0.01\n",
    "    df['ox'] = ox\n",
    "    df['oy'] = oy\n",
    "    return df"
   ]
  },
  {
   "cell_type": "code",
   "execution_count": 11,
   "id": "cac4c364-6068-4561-b3b2-a7b85e471efc",
   "metadata": {},
   "outputs": [],
   "source": [
    "def generate_df(locations, parameter_function):\n",
    "    return pd.concat([parameter_function(ox, oy)\n",
    "           for ox, oy in locations],\n",
    "          ignore_index=True)"
   ]
  },
  {
   "cell_type": "code",
   "execution_count": 12,
   "id": "c9486326-1e52-4975-91a7-e306b85d4ccd",
   "metadata": {},
   "outputs": [],
   "source": [
    "df_ds = generate_df(locations, ds_simulation_parameters)"
   ]
  },
  {
   "cell_type": "code",
   "execution_count": 13,
   "id": "c47fd3b2-203a-4715-b51e-b052becf2938",
   "metadata": {},
   "outputs": [],
   "source": [
    "def load_ensembles(row, simulator_class):\n",
    "    ox = int(row['ox'])\n",
    "    oy = int(row['oy'])\n",
    "    simulator_obj = simulator_class(\n",
    "                 nneighboringNode=row['nneighboringNode'],\n",
    "                 distanceThreshold=row['distanceThreshold'],\n",
    "                 maxScanFraction=row['maxScanFraction'],\n",
    "                 root_dir=f'case2/ds-{ox}-{oy}/',\n",
    "                 ox=ox,\n",
    "                 oy=oy)\n",
    "    \n",
    "    ensemble, timing = simulator_obj.get_ensemble(ti,\n",
    "                                                  ensemble_size=40,\n",
    "                                                  nthreads=40,\n",
    "                                                  seed=444,\n",
    "                                                  overwrite=True,\n",
    "                                                  dtype='float')\n",
    "    row['time'] = timing\n",
    "    row['ensemble_size'] = ensemble.size\n",
    "    \n",
    "    return row"
   ]
  },
  {
   "cell_type": "code",
   "execution_count": 14,
   "id": "55065ac4-f193-4923-b913-b0c02dd8eb9b",
   "metadata": {},
   "outputs": [
    {
     "data": {
      "text/html": [
       "<div>\n",
       "<style scoped>\n",
       "    .dataframe tbody tr th:only-of-type {\n",
       "        vertical-align: middle;\n",
       "    }\n",
       "\n",
       "    .dataframe tbody tr th {\n",
       "        vertical-align: top;\n",
       "    }\n",
       "\n",
       "    .dataframe thead th {\n",
       "        text-align: right;\n",
       "    }\n",
       "</style>\n",
       "<table border=\"1\" class=\"dataframe\">\n",
       "  <thead>\n",
       "    <tr style=\"text-align: right;\">\n",
       "      <th></th>\n",
       "      <th>nneighboringNode</th>\n",
       "      <th>distanceThreshold</th>\n",
       "      <th>maxScanFraction</th>\n",
       "      <th>ox</th>\n",
       "      <th>oy</th>\n",
       "      <th>time</th>\n",
       "      <th>ensemble_size</th>\n",
       "    </tr>\n",
       "  </thead>\n",
       "  <tbody>\n",
       "    <tr>\n",
       "      <th>0</th>\n",
       "      <td>8.0</td>\n",
       "      <td>0.001</td>\n",
       "      <td>0.01</td>\n",
       "      <td>1100.0</td>\n",
       "      <td>4200.0</td>\n",
       "      <td>646.061953</td>\n",
       "      <td>40.0</td>\n",
       "    </tr>\n",
       "    <tr>\n",
       "      <th>1</th>\n",
       "      <td>8.0</td>\n",
       "      <td>0.002</td>\n",
       "      <td>0.01</td>\n",
       "      <td>1100.0</td>\n",
       "      <td>4200.0</td>\n",
       "      <td>305.607407</td>\n",
       "      <td>40.0</td>\n",
       "    </tr>\n",
       "    <tr>\n",
       "      <th>2</th>\n",
       "      <td>8.0</td>\n",
       "      <td>0.005</td>\n",
       "      <td>0.01</td>\n",
       "      <td>1100.0</td>\n",
       "      <td>4200.0</td>\n",
       "      <td>158.568862</td>\n",
       "      <td>40.0</td>\n",
       "    </tr>\n",
       "    <tr>\n",
       "      <th>3</th>\n",
       "      <td>8.0</td>\n",
       "      <td>0.010</td>\n",
       "      <td>0.01</td>\n",
       "      <td>1100.0</td>\n",
       "      <td>4200.0</td>\n",
       "      <td>93.833860</td>\n",
       "      <td>40.0</td>\n",
       "    </tr>\n",
       "    <tr>\n",
       "      <th>4</th>\n",
       "      <td>16.0</td>\n",
       "      <td>0.001</td>\n",
       "      <td>0.01</td>\n",
       "      <td>1100.0</td>\n",
       "      <td>4200.0</td>\n",
       "      <td>1423.687609</td>\n",
       "      <td>40.0</td>\n",
       "    </tr>\n",
       "    <tr>\n",
       "      <th>...</th>\n",
       "      <td>...</td>\n",
       "      <td>...</td>\n",
       "      <td>...</td>\n",
       "      <td>...</td>\n",
       "      <td>...</td>\n",
       "      <td>...</td>\n",
       "      <td>...</td>\n",
       "    </tr>\n",
       "    <tr>\n",
       "      <th>155</th>\n",
       "      <td>32.0</td>\n",
       "      <td>0.010</td>\n",
       "      <td>0.01</td>\n",
       "      <td>4700.0</td>\n",
       "      <td>2000.0</td>\n",
       "      <td>223.741283</td>\n",
       "      <td>40.0</td>\n",
       "    </tr>\n",
       "    <tr>\n",
       "      <th>156</th>\n",
       "      <td>64.0</td>\n",
       "      <td>0.001</td>\n",
       "      <td>0.01</td>\n",
       "      <td>4700.0</td>\n",
       "      <td>2000.0</td>\n",
       "      <td>3879.927086</td>\n",
       "      <td>40.0</td>\n",
       "    </tr>\n",
       "    <tr>\n",
       "      <th>157</th>\n",
       "      <td>64.0</td>\n",
       "      <td>0.002</td>\n",
       "      <td>0.01</td>\n",
       "      <td>4700.0</td>\n",
       "      <td>2000.0</td>\n",
       "      <td>1822.478574</td>\n",
       "      <td>40.0</td>\n",
       "    </tr>\n",
       "    <tr>\n",
       "      <th>158</th>\n",
       "      <td>64.0</td>\n",
       "      <td>0.005</td>\n",
       "      <td>0.01</td>\n",
       "      <td>4700.0</td>\n",
       "      <td>2000.0</td>\n",
       "      <td>1049.281418</td>\n",
       "      <td>40.0</td>\n",
       "    </tr>\n",
       "    <tr>\n",
       "      <th>159</th>\n",
       "      <td>64.0</td>\n",
       "      <td>0.010</td>\n",
       "      <td>0.01</td>\n",
       "      <td>4700.0</td>\n",
       "      <td>2000.0</td>\n",
       "      <td>551.300850</td>\n",
       "      <td>40.0</td>\n",
       "    </tr>\n",
       "  </tbody>\n",
       "</table>\n",
       "<p>160 rows × 7 columns</p>\n",
       "</div>"
      ],
      "text/plain": [
       "     nneighboringNode  distanceThreshold  maxScanFraction      ox      oy  \\\n",
       "0                 8.0              0.001             0.01  1100.0  4200.0   \n",
       "1                 8.0              0.002             0.01  1100.0  4200.0   \n",
       "2                 8.0              0.005             0.01  1100.0  4200.0   \n",
       "3                 8.0              0.010             0.01  1100.0  4200.0   \n",
       "4                16.0              0.001             0.01  1100.0  4200.0   \n",
       "..                ...                ...              ...     ...     ...   \n",
       "155              32.0              0.010             0.01  4700.0  2000.0   \n",
       "156              64.0              0.001             0.01  4700.0  2000.0   \n",
       "157              64.0              0.002             0.01  4700.0  2000.0   \n",
       "158              64.0              0.005             0.01  4700.0  2000.0   \n",
       "159              64.0              0.010             0.01  4700.0  2000.0   \n",
       "\n",
       "            time  ensemble_size  \n",
       "0     646.061953           40.0  \n",
       "1     305.607407           40.0  \n",
       "2     158.568862           40.0  \n",
       "3      93.833860           40.0  \n",
       "4    1423.687609           40.0  \n",
       "..           ...            ...  \n",
       "155   223.741283           40.0  \n",
       "156  3879.927086           40.0  \n",
       "157  1822.478574           40.0  \n",
       "158  1049.281418           40.0  \n",
       "159   551.300850           40.0  \n",
       "\n",
       "[160 rows x 7 columns]"
      ]
     },
     "execution_count": 14,
     "metadata": {},
     "output_type": "execute_result"
    }
   ],
   "source": [
    "df_ds = df_ds.apply(lambda row: load_ensembles(row, antarctic.AntarcticDS), axis=1)\n",
    "df_ds"
   ]
  },
  {
   "cell_type": "code",
   "execution_count": 15,
   "id": "11f720f9-2db9-4275-9651-f4307c94df75",
   "metadata": {},
   "outputs": [],
   "source": [
    "def dsbc_simulation_parameters(ox, oy):\n",
    "    parameter_sets = [ [n, f] for n in [16, 32, 64] \n",
    "                      for f in [2e-3, 1e-3, 1e-4, 1e-5]]\n",
    "\n",
    "    df = pd.DataFrame(parameter_sets, columns=['nneighboringNode','maxScanFraction'])\n",
    "    df['distanceThreshold'] = 0\n",
    "    df['ox'] = ox\n",
    "    df['oy'] = oy\n",
    "    return df"
   ]
  },
  {
   "cell_type": "code",
   "execution_count": 16,
   "id": "e31afbd1-12d5-4c7a-b0d8-140d0be18863",
   "metadata": {},
   "outputs": [],
   "source": [
    "df_dsbc = generate_df(locations, dsbc_simulation_parameters)"
   ]
  },
  {
   "cell_type": "code",
   "execution_count": 17,
   "id": "7a1b95d8-7ca5-401e-a98f-1acc94382ac1",
   "metadata": {},
   "outputs": [
    {
     "data": {
      "text/html": [
       "<div>\n",
       "<style scoped>\n",
       "    .dataframe tbody tr th:only-of-type {\n",
       "        vertical-align: middle;\n",
       "    }\n",
       "\n",
       "    .dataframe tbody tr th {\n",
       "        vertical-align: top;\n",
       "    }\n",
       "\n",
       "    .dataframe thead th {\n",
       "        text-align: right;\n",
       "    }\n",
       "</style>\n",
       "<table border=\"1\" class=\"dataframe\">\n",
       "  <thead>\n",
       "    <tr style=\"text-align: right;\">\n",
       "      <th></th>\n",
       "      <th>nneighboringNode</th>\n",
       "      <th>maxScanFraction</th>\n",
       "      <th>distanceThreshold</th>\n",
       "      <th>ox</th>\n",
       "      <th>oy</th>\n",
       "      <th>time</th>\n",
       "      <th>ensemble_size</th>\n",
       "    </tr>\n",
       "  </thead>\n",
       "  <tbody>\n",
       "    <tr>\n",
       "      <th>0</th>\n",
       "      <td>16.0</td>\n",
       "      <td>0.00200</td>\n",
       "      <td>0.0</td>\n",
       "      <td>1100.0</td>\n",
       "      <td>4200.0</td>\n",
       "      <td>756.250556</td>\n",
       "      <td>40.0</td>\n",
       "    </tr>\n",
       "    <tr>\n",
       "      <th>1</th>\n",
       "      <td>16.0</td>\n",
       "      <td>0.00100</td>\n",
       "      <td>0.0</td>\n",
       "      <td>1100.0</td>\n",
       "      <td>4200.0</td>\n",
       "      <td>430.184379</td>\n",
       "      <td>40.0</td>\n",
       "    </tr>\n",
       "    <tr>\n",
       "      <th>2</th>\n",
       "      <td>16.0</td>\n",
       "      <td>0.00010</td>\n",
       "      <td>0.0</td>\n",
       "      <td>1100.0</td>\n",
       "      <td>4200.0</td>\n",
       "      <td>134.885196</td>\n",
       "      <td>40.0</td>\n",
       "    </tr>\n",
       "    <tr>\n",
       "      <th>3</th>\n",
       "      <td>16.0</td>\n",
       "      <td>0.00001</td>\n",
       "      <td>0.0</td>\n",
       "      <td>1100.0</td>\n",
       "      <td>4200.0</td>\n",
       "      <td>155.490508</td>\n",
       "      <td>40.0</td>\n",
       "    </tr>\n",
       "    <tr>\n",
       "      <th>4</th>\n",
       "      <td>32.0</td>\n",
       "      <td>0.00200</td>\n",
       "      <td>0.0</td>\n",
       "      <td>1100.0</td>\n",
       "      <td>4200.0</td>\n",
       "      <td>830.519947</td>\n",
       "      <td>40.0</td>\n",
       "    </tr>\n",
       "    <tr>\n",
       "      <th>...</th>\n",
       "      <td>...</td>\n",
       "      <td>...</td>\n",
       "      <td>...</td>\n",
       "      <td>...</td>\n",
       "      <td>...</td>\n",
       "      <td>...</td>\n",
       "      <td>...</td>\n",
       "    </tr>\n",
       "    <tr>\n",
       "      <th>115</th>\n",
       "      <td>32.0</td>\n",
       "      <td>0.00001</td>\n",
       "      <td>0.0</td>\n",
       "      <td>4700.0</td>\n",
       "      <td>2000.0</td>\n",
       "      <td>156.357464</td>\n",
       "      <td>40.0</td>\n",
       "    </tr>\n",
       "    <tr>\n",
       "      <th>116</th>\n",
       "      <td>64.0</td>\n",
       "      <td>0.00200</td>\n",
       "      <td>0.0</td>\n",
       "      <td>4700.0</td>\n",
       "      <td>2000.0</td>\n",
       "      <td>1007.217321</td>\n",
       "      <td>40.0</td>\n",
       "    </tr>\n",
       "    <tr>\n",
       "      <th>117</th>\n",
       "      <td>64.0</td>\n",
       "      <td>0.00100</td>\n",
       "      <td>0.0</td>\n",
       "      <td>4700.0</td>\n",
       "      <td>2000.0</td>\n",
       "      <td>563.019934</td>\n",
       "      <td>40.0</td>\n",
       "    </tr>\n",
       "    <tr>\n",
       "      <th>118</th>\n",
       "      <td>64.0</td>\n",
       "      <td>0.00010</td>\n",
       "      <td>0.0</td>\n",
       "      <td>4700.0</td>\n",
       "      <td>2000.0</td>\n",
       "      <td>155.385320</td>\n",
       "      <td>40.0</td>\n",
       "    </tr>\n",
       "    <tr>\n",
       "      <th>119</th>\n",
       "      <td>64.0</td>\n",
       "      <td>0.00001</td>\n",
       "      <td>0.0</td>\n",
       "      <td>4700.0</td>\n",
       "      <td>2000.0</td>\n",
       "      <td>159.887570</td>\n",
       "      <td>40.0</td>\n",
       "    </tr>\n",
       "  </tbody>\n",
       "</table>\n",
       "<p>120 rows × 7 columns</p>\n",
       "</div>"
      ],
      "text/plain": [
       "     nneighboringNode  maxScanFraction  distanceThreshold      ox      oy  \\\n",
       "0                16.0          0.00200                0.0  1100.0  4200.0   \n",
       "1                16.0          0.00100                0.0  1100.0  4200.0   \n",
       "2                16.0          0.00010                0.0  1100.0  4200.0   \n",
       "3                16.0          0.00001                0.0  1100.0  4200.0   \n",
       "4                32.0          0.00200                0.0  1100.0  4200.0   \n",
       "..                ...              ...                ...     ...     ...   \n",
       "115              32.0          0.00001                0.0  4700.0  2000.0   \n",
       "116              64.0          0.00200                0.0  4700.0  2000.0   \n",
       "117              64.0          0.00100                0.0  4700.0  2000.0   \n",
       "118              64.0          0.00010                0.0  4700.0  2000.0   \n",
       "119              64.0          0.00001                0.0  4700.0  2000.0   \n",
       "\n",
       "            time  ensemble_size  \n",
       "0     756.250556           40.0  \n",
       "1     430.184379           40.0  \n",
       "2     134.885196           40.0  \n",
       "3     155.490508           40.0  \n",
       "4     830.519947           40.0  \n",
       "..           ...            ...  \n",
       "115   156.357464           40.0  \n",
       "116  1007.217321           40.0  \n",
       "117   563.019934           40.0  \n",
       "118   155.385320           40.0  \n",
       "119   159.887570           40.0  \n",
       "\n",
       "[120 rows x 7 columns]"
      ]
     },
     "execution_count": 17,
     "metadata": {},
     "output_type": "execute_result"
    }
   ],
   "source": [
    "df_dsbc = df_dsbc.apply(lambda row:\n",
    "                            load_ensembles(row,\n",
    "                                antarctic.AntarcticDSBC),\n",
    "                        axis=1)\n",
    "df_dsbc"
   ]
  },
  {
   "cell_type": "code",
   "execution_count": 18,
   "id": "ba1389e6-8778-4e06-8d48-9bcd1aeebd73",
   "metadata": {},
   "outputs": [],
   "source": [
    "ensemble1  = ensemble.Ensemble.from_directory('case2/ds-3700-2000/ds-16.0-0.001-0.01/')"
   ]
  },
  {
   "cell_type": "code",
   "execution_count": 19,
   "id": "c4afa169-6679-43be-9f92-588d86be8a3a",
   "metadata": {},
   "outputs": [
    {
     "data": {
      "text/plain": [
       "array([[-383., -414., -423., ...,  368.,  359.,  455.],\n",
       "       [-359., -363., -371., ...,  434.,  493.,  396.],\n",
       "       [-318., -302., -306., ...,  501.,  444.,  527.],\n",
       "       ...,\n",
       "       [-309., -279., -246., ...,  552.,  650.,  670.],\n",
       "       [-231., -180., -222., ...,  527.,  594.,  580.],\n",
       "       [-293., -185., -240., ...,  519.,  540.,  580.]])"
      ]
     },
     "execution_count": 19,
     "metadata": {},
     "output_type": "execute_result"
    }
   ],
   "source": [
    "ensemble1.members[0]"
   ]
  },
  {
   "cell_type": "code",
   "execution_count": 20,
   "id": "0c58bd65-43f3-4ed0-9d3e-da21f82a0b98",
   "metadata": {},
   "outputs": [
    {
     "data": {
      "text/plain": [
       "<matplotlib.image.AxesImage at 0x7f2eebb13550>"
      ]
     },
     "execution_count": 20,
     "metadata": {},
     "output_type": "execute_result"
    },
    {
     "data": {
      "image/png": "[encoded data removed]",
      "text/plain": [
       "<Figure size 432x288 with 1 Axes>"
      ]
     },
     "metadata": {
      "needs_background": "light"
     },
     "output_type": "display_data"
    }
   ],
   "source": [
    "plt.imshow(ensemble1.members[1])"
   ]
  },
  {
   "cell_type": "code",
   "execution_count": 21,
   "id": "5fe23ab2-62da-4423-afb1-6e9ce079c54c",
   "metadata": {},
   "outputs": [],
   "source": [
    "imm = ensemble1.members[1]"
   ]
  },
  {
   "cell_type": "code",
   "execution_count": 22,
   "id": "b1bd9d03-2d13-493f-acf4-14c097ec15fd",
   "metadata": {},
   "outputs": [],
   "source": [
    "minn = np.min(ensemble1.members[1])"
   ]
  },
  {
   "cell_type": "code",
   "execution_count": 23,
   "id": "0ebcc7a5-1eaf-4cc8-85e0-3d9a6a02ff16",
   "metadata": {},
   "outputs": [],
   "source": [
    "maxx = np.max(ensemble1.members[1])"
   ]
  },
  {
   "cell_type": "code",
   "execution_count": 24,
   "id": "d6aaa181-96be-4200-b1c8-e8e34a3e9316",
   "metadata": {},
   "outputs": [],
   "source": [
    "tresholds = np.linspace(minn, maxx, 100)[0]"
   ]
  },
  {
   "cell_type": "code",
   "execution_count": 25,
   "id": "7b9a1cca-24d8-43a6-9d4c-daab33bfac49",
   "metadata": {},
   "outputs": [],
   "source": [
    "def apply_t(imm, t):\n",
    "    im = copy.copy(imm)\n",
    "    im[im < t] = 0\n",
    "    im[im != 0] = 1\n",
    "    return im"
   ]
  },
  {
   "cell_type": "code",
   "execution_count": 26,
   "id": "9a89cc0d-c537-4794-9da5-4249af535fbc",
   "metadata": {},
   "outputs": [
    {
     "data": {
      "text/plain": [
       "<matplotlib.colorbar.Colorbar at 0x7f2ee81539a0>"
      ]
     },
     "execution_count": 26,
     "metadata": {},
     "output_type": "execute_result"
    },
    {
     "data": {
      "image/png": "[encoded data removed]",
      "text/plain": [
       "<Figure size 432x288 with 2 Axes>"
      ]
     },
     "metadata": {
      "needs_background": "light"
     },
     "output_type": "display_data"
    }
   ],
   "source": [
    "plt.imshow(apply_t(imm, 1000))\n",
    "plt.colorbar()"
   ]
  },
  {
   "cell_type": "code",
   "execution_count": 48,
   "id": "14412169-66a8-4905-9b4d-6cd630b39d2c",
   "metadata": {},
   "outputs": [],
   "source": [
    "import mpstool\n",
    "comps = mpstool.connectivity.get_components(apply_t(imm, 1000), background=1)"
   ]
  },
  {
   "cell_type": "code",
   "execution_count": 49,
   "id": "eb356898-1135-452e-a0a1-e97ad4f185d7",
   "metadata": {},
   "outputs": [
    {
     "data": {
      "text/plain": [
       "array([  0,   1,   2,   3,   4,   5,   6,   7,   8,   9,  10,  11,  12,\n",
       "        13,  14,  15,  16,  17,  18,  19,  20,  21,  22,  23,  24,  25,\n",
       "        26,  27,  28,  29,  30,  31,  32,  33,  34,  35,  36,  37,  38,\n",
       "        39,  40,  41,  42,  43,  44,  45,  46,  47,  48,  49,  50,  51,\n",
       "        52,  53,  54,  55,  56,  57,  58,  59,  60,  61,  62,  63,  64,\n",
       "        65,  66,  67,  68,  69,  70,  71,  72,  73,  74,  75,  76,  77,\n",
       "        78,  79,  80,  81,  82,  83,  84,  85,  86,  87,  88,  89,  90,\n",
       "        91,  92,  93,  94,  95,  96,  97,  98,  99, 100, 101, 102, 103,\n",
       "       104, 105, 106, 107, 108, 109, 110, 111, 112, 113, 114, 115, 116,\n",
       "       117, 118, 119, 120, 121, 122, 123, 124, 125, 126, 127, 128, 129,\n",
       "       130, 131, 132, 133, 134, 135, 136, 137, 138, 139, 140, 141, 142,\n",
       "       143, 144, 145, 146, 147, 148, 149, 150, 151, 152, 153, 154, 155,\n",
       "       156, 157, 158, 159, 160, 161, 162, 163, 164, 165, 166, 167, 168,\n",
       "       169, 170, 171, 172, 173, 174, 175, 176, 177])"
      ]
     },
     "execution_count": 49,
     "metadata": {},
     "output_type": "execute_result"
    }
   ],
   "source": [
    "values, counts = np.unique(comps, return_counts=True)\n",
    "values"
   ]
  },
  {
   "cell_type": "code",
   "execution_count": 40,
   "id": "cc24535b-96cc-4fed-bbe0-a11bf21d6325",
   "metadata": {},
   "outputs": [],
   "source": [
    "G, thresholds = mpstool.connectivity.get_Gamma(ensemble1.members[1], 200)"
   ]
  },
  {
   "cell_type": "code",
   "execution_count": 41,
   "id": "13ced9d9-4d6e-40b9-8f8c-205f8b1296cf",
   "metadata": {},
   "outputs": [],
   "source": [
    "Gc, thresholds = mpstool.connectivity.get_Gamma(ensemble1.members[1], 200, complementary=True)"
   ]
  },
  {
   "cell_type": "code",
   "execution_count": 42,
   "id": "c9b4c152-f395-41ea-ac84-99c0f7638901",
   "metadata": {},
   "outputs": [
    {
     "data": {
      "text/plain": [
       "[<matplotlib.lines.Line2D at 0x7f2ee3dec1f0>]"
      ]
     },
     "execution_count": 42,
     "metadata": {},
     "output_type": "execute_result"
    },
    {
     "data": {
      "image/png": "[encoded data removed]",
      "text/plain": [
       "<Figure size 432x288 with 1 Axes>"
      ]
     },
     "metadata": {
      "needs_background": "light"
     },
     "output_type": "display_data"
    }
   ],
   "source": [
    "plt.plot(G)"
   ]
  },
  {
   "cell_type": "code",
   "execution_count": 43,
   "id": "1a799096-79b1-49e3-9596-59beb488f024",
   "metadata": {},
   "outputs": [
    {
     "data": {
      "text/plain": [
       "[<matplotlib.lines.Line2D at 0x7f2ee3d59490>]"
      ]
     },
     "execution_count": 43,
     "metadata": {},
     "output_type": "execute_result"
    },
    {
     "data": {
      "image/png": "[encoded data removed]",
      "text/plain": [
       "<Figure size 432x288 with 1 Axes>"
      ]
     },
     "metadata": {
      "needs_background": "light"
     },
     "output_type": "display_data"
    }
   ],
   "source": [
    "plt.plot(Gc)"
   ]
  },
  {
   "cell_type": "code",
   "execution_count": 48,
   "id": "6105230a-5887-4f26-a503-652ded950413",
   "metadata": {},
   "outputs": [
    {
     "data": {
      "text/plain": [
       "array([  0,   1,   2,   3,   4,   5,   6,   7,   8,   9,  10,  11,  12,\n",
       "        13,  14,  15,  16,  17,  18,  19,  20,  21,  22,  23,  24,  25,\n",
       "        26,  27,  28,  29,  30,  31,  32,  33,  34,  35,  36,  37,  38,\n",
       "        39,  40,  41,  42,  43,  44,  45,  46,  47,  48,  49,  50,  51,\n",
       "        52,  53,  54,  55,  56,  57,  58,  59,  60,  61,  62,  63,  64,\n",
       "        65,  66,  67,  68,  69,  70,  71,  72,  73,  74,  75,  76,  77,\n",
       "        78,  79,  80,  81,  82,  83,  84,  85,  86,  87,  88,  89,  90,\n",
       "        91,  92,  93,  94,  95,  96,  97,  98,  99, 100, 101, 102, 103,\n",
       "       104, 105, 106, 107, 108, 109, 110, 111, 112, 113, 114, 115, 116,\n",
       "       117, 118, 119, 120, 121, 122, 123, 124, 125, 126, 127, 128, 129,\n",
       "       130, 131, 132, 133, 134, 135, 136, 137, 138, 139])"
      ]
     },
     "execution_count": 48,
     "metadata": {},
     "output_type": "execute_result"
    }
   ],
   "source": [
    "np.unique(comps)"
   ]
  },
  {
   "cell_type": "code",
   "execution_count": 51,
   "id": "d1fafd87-d8dd-4f3d-a935-85deadda5927",
   "metadata": {},
   "outputs": [
    {
     "data": {
      "text/plain": [
       "0.8357332001859472"
      ]
     },
     "execution_count": 51,
     "metadata": {},
     "output_type": "execute_result"
    }
   ],
   "source": [
    "values, counts = np.unique(comps, return_counts=True)\n",
    "G = np.sum(counts[1:]**2) / np.sum(counts[1:])**2\n",
    "G"
   ]
  },
  {
   "cell_type": "code",
   "execution_count": 55,
   "id": "1e1b7539-0162-4147-9e72-c10704eddefc",
   "metadata": {},
   "outputs": [],
   "source": [
    "u = True"
   ]
  },
  {
   "cell_type": "code",
   "execution_count": 56,
   "id": "82324ccd-e874-41e5-9179-4400716a4d86",
   "metadata": {},
   "outputs": [],
   "source": [
    "b = 0 if u == False else 1"
   ]
  },
  {
   "cell_type": "code",
   "execution_count": 57,
   "id": "f62a84ec-1724-484e-a978-8dfc205c2b5b",
   "metadata": {},
   "outputs": [
    {
     "data": {
      "text/plain": [
       "1"
      ]
     },
     "execution_count": 57,
     "metadata": {},
     "output_type": "execute_result"
    }
   ],
   "source": [
    "b"
   ]
  },
  {
   "cell_type": "code",
   "execution_count": 50,
   "id": "d32e424c-2d67-44c0-8819-8eebc353e864",
   "metadata": {},
   "outputs": [
    {
     "data": {
      "text/plain": [
       "array([  0,   1,   2,   3,   4,   5,   6,   7,   8,   9,  10,  11,  12,\n",
       "        13,  14,  15,  16,  17,  18,  19,  20,  21,  22,  23,  24,  25,\n",
       "        26,  27,  28,  29,  30,  31,  32,  33,  34,  35,  36,  37,  38,\n",
       "        39,  40,  41,  42,  43,  44,  45,  46,  47,  48,  49,  50,  51,\n",
       "        52,  53,  54,  55,  56,  57,  58,  59,  60,  61,  62,  63,  64,\n",
       "        65,  66,  67,  68,  69,  70,  71,  72,  73,  74,  75,  76,  77,\n",
       "        78,  79,  80,  81,  82,  83,  84,  85,  86,  87,  88,  89,  90,\n",
       "        91,  92,  93,  94,  95,  96,  97,  98,  99, 100, 101, 102, 103,\n",
       "       104, 105, 106, 107, 108, 109, 110, 111, 112, 113, 114, 115, 116,\n",
       "       117, 118, 119, 120, 121, 122, 123, 124, 125, 126, 127, 128, 129,\n",
       "       130, 131, 132, 133, 134, 135, 136, 137, 138, 139])"
      ]
     },
     "execution_count": 50,
     "metadata": {},
     "output_type": "execute_result"
    }
   ],
   "source": [
    "values"
   ]
  }
 ],
 "metadata": {
  "kernelspec": {
   "display_name": "Python 3",
   "language": "python",
   "name": "python3"
  },
  "language_info": {
   "codemirror_mode": {
    "name": "ipython",
    "version": 3
   },
   "file_extension": ".py",
   "mimetype": "text/x-python",
   "name": "python",
   "nbconvert_exporter": "python",
   "pygments_lexer": "ipython3",
   "version": "3.8.7"
  }
 },
 "nbformat": 4,
 "nbformat_minor": 5
}
